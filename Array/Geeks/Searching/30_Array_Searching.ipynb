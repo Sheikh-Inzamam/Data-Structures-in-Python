{
 "cells": [
  {
   "cell_type": "markdown",
   "metadata": {},
   "source": [
    "# Find a triplet such that sum of two equals to third element"
   ]
  },
  {
   "cell_type": "code",
   "execution_count": 2,
   "metadata": {},
   "outputs": [
    {
     "name": "stdout",
     "output_type": "stream",
     "text": [
      "numbers are  21 19 2\n"
     ]
    }
   ],
   "source": [
    "def findTriplet(arr, n): \n",
    "      \n",
    "    # sort the array \n",
    "    arr.sort(reverse=True) \n",
    "   \n",
    "    # for every element in arr \n",
    "    # check if a pair exist(in array) whose \n",
    "    # sum is equal to arr element \n",
    "    i = 0\n",
    "    for i in range(0,n-2): \n",
    "        j = i+1\n",
    "        k = n-1\n",
    "        while (j < k): \n",
    "            if (arr[j] + arr[k]== arr[i]): \n",
    "                 \n",
    "                # pair found \n",
    "                print(\"numbers are \", arr[i], arr[j], arr[k]) \n",
    "                return\n",
    "            elif (arr[i]< arr[j] + arr[k]): \n",
    "                j += 1\n",
    "            else: \n",
    "                k -= 1\n",
    "          \n",
    "    # no such triplet is found in array \n",
    "    print(\"No such triplet exists\")\n",
    "arr = [ 5, 32, 1, 7, 10, 50, 19, 21, 2 ] \n",
    "n = len(arr) \n",
    "findTriplet(arr, n) "
   ]
  },
  {
   "cell_type": "code",
   "execution_count": null,
   "metadata": {},
   "outputs": [],
   "source": []
  }
 ],
 "metadata": {
  "kernelspec": {
   "display_name": "Python 3",
   "language": "python",
   "name": "python3"
  },
  "language_info": {
   "codemirror_mode": {
    "name": "ipython",
    "version": 3
   },
   "file_extension": ".py",
   "mimetype": "text/x-python",
   "name": "python",
   "nbconvert_exporter": "python",
   "pygments_lexer": "ipython3",
   "version": "3.7.6"
  }
 },
 "nbformat": 4,
 "nbformat_minor": 4
}
