{
 "cells": [
  {
   "cell_type": "code",
   "execution_count": 10,
   "metadata": {},
   "outputs": [
    {
     "name": "stdout",
     "output_type": "stream",
     "text": [
      "The closest pair is 22 and 30\n"
     ]
    }
   ],
   "source": [
    "import sys\n",
    "MAX_VAL= sys.maxsize\n",
    "\n",
    "def printClosest(arr,n,sum):\n",
    "    arr.sort()\n",
    "    res_l,res_r=0,0\n",
    "    l,r,diff=0,n-1,MAX_VAL\n",
    "    \n",
    "    while(l<r):\n",
    "        if abs(arr[l] + arr[r]-sum) <diff:\n",
    "            res_l=l\n",
    "            res_r=r\n",
    "            diff= abs(arr[l] + arr[r]-sum)\n",
    "        elif sum > arr[l]+arr[r]:\n",
    "            l+=1\n",
    "        else:\n",
    "            r-=1\n",
    "    print('The closest pair is {} and {}'\n",
    "         .format(arr[res_l], arr[res_r])) \n",
    "\n",
    "    \n",
    "arr = [10, 22, 28, 29, 30, 40] \n",
    "n = len(arr) \n",
    "x=54\n",
    "printClosest(arr, n, x) \n"
   ]
  },
  {
   "cell_type": "code",
   "execution_count": null,
   "metadata": {},
   "outputs": [],
   "source": []
  }
 ],
 "metadata": {
  "kernelspec": {
   "display_name": "Python 3",
   "language": "python",
   "name": "python3"
  },
  "language_info": {
   "codemirror_mode": {
    "name": "ipython",
    "version": 3
   },
   "file_extension": ".py",
   "mimetype": "text/x-python",
   "name": "python",
   "nbconvert_exporter": "python",
   "pygments_lexer": "ipython3",
   "version": "3.7.6"
  }
 },
 "nbformat": 4,
 "nbformat_minor": 4
}
