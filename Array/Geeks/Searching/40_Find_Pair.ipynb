{
 "cells": [
  {
   "cell_type": "markdown",
   "metadata": {},
   "source": [
    "# Find a pair with the given difference"
   ]
  },
  {
   "cell_type": "code",
   "execution_count": 1,
   "metadata": {},
   "outputs": [
    {
     "name": "stdout",
     "output_type": "stream",
     "text": [
      "90 30\n"
     ]
    }
   ],
   "source": [
    "def findPair(arr,n): \n",
    "    l=0\n",
    "    r=len(arr)-1\n",
    "    while l<r:\n",
    "        if(arr[r]-arr[l]==n):\n",
    "            print(arr[r],arr[l])\n",
    "            return\n",
    "        elif(arr[r]-arr[l]> n):\n",
    "            l+=1\n",
    "        else:\n",
    "            r-=1\n",
    "            \n",
    "  \n",
    "    \n",
    "  \n",
    "# Driver function to test above function \n",
    "arr = [1, 30, 90, 20, 40] \n",
    "n = 60\n",
    "findPair(arr, n) \n",
    "  \n",
    "# This code is contributed by Devesh Agrawal "
   ]
  },
  {
   "cell_type": "code",
   "execution_count": null,
   "metadata": {},
   "outputs": [],
   "source": []
  }
 ],
 "metadata": {
  "kernelspec": {
   "display_name": "Python 3",
   "language": "python",
   "name": "python3"
  },
  "language_info": {
   "codemirror_mode": {
    "name": "ipython",
    "version": 3
   },
   "file_extension": ".py",
   "mimetype": "text/x-python",
   "name": "python",
   "nbconvert_exporter": "python",
   "pygments_lexer": "ipython3",
   "version": "3.7.6"
  }
 },
 "nbformat": 4,
 "nbformat_minor": 4
}
