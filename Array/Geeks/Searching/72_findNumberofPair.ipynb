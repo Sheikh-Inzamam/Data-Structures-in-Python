{
 "cells": [
  {
   "cell_type": "markdown",
   "metadata": {},
   "source": [
    "# Find number of pairs in an array such that their XOR is 0"
   ]
  },
  {
   "cell_type": "code",
   "execution_count": 1,
   "metadata": {},
   "outputs": [
    {
     "name": "stdout",
     "output_type": "stream",
     "text": [
      "2\n"
     ]
    }
   ],
   "source": [
    "def calculate(a) :\n",
    "    Hash = dict()\n",
    "    answer =0\n",
    "    \n",
    "    for i in range(len(a)):\n",
    "        Hash[a[i]]= Hash.get(a[i],0)+1\n",
    "    for i in Hash:\n",
    "        answer = answer + Hash[i]* (Hash[i]-1)//2\n",
    "    return answer\n",
    "    \n",
    "\n",
    "\n",
    "a = [1, 2, 1, 2, 4] \n",
    "print(calculate(a)) \n"
   ]
  },
  {
   "cell_type": "code",
   "execution_count": null,
   "metadata": {},
   "outputs": [],
   "source": []
  }
 ],
 "metadata": {
  "kernelspec": {
   "display_name": "Python 3",
   "language": "python",
   "name": "python3"
  },
  "language_info": {
   "codemirror_mode": {
    "name": "ipython",
    "version": 3
   },
   "file_extension": ".py",
   "mimetype": "text/x-python",
   "name": "python",
   "nbconvert_exporter": "python",
   "pygments_lexer": "ipython3",
   "version": "3.7.6"
  }
 },
 "nbformat": 4,
 "nbformat_minor": 4
}
