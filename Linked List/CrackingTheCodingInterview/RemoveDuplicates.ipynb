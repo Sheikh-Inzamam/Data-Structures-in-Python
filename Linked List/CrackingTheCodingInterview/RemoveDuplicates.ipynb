{
 "cells": [
  {
   "cell_type": "markdown",
   "metadata": {},
   "source": [
    "### Remove Dups: Write code to remove duplicates from an unsorted linked list."
   ]
  },
  {
   "cell_type": "code",
   "execution_count": 9,
   "metadata": {},
   "outputs": [
    {
     "name": "stdout",
     "output_type": "stream",
     "text": [
      "4 9 4 1 2 3 9 5 2 \n",
      "4 9 1 2 3 5 "
     ]
    }
   ],
   "source": [
    "class Node(object):\n",
    "    def __init__(self,data,next=None):\n",
    "        self.data=data\n",
    "        self.next=next\n",
    "    def getData(self):\n",
    "        return self.data\n",
    "    def setData(self,data):\n",
    "        self.data=data\n",
    "    def getNext(self):\n",
    "        return self.next\n",
    "    def setNext(self,next):\n",
    "        self.next=next\n",
    "        \n",
    "class LinkedList(object):\n",
    "    def __init__(self):\n",
    "        self.head= None\n",
    "    def printLinkedList(self):\n",
    "        temp=self.head\n",
    "        while(temp):\n",
    "            print(temp.data, end =\" \")\n",
    "            temp= temp.next\n",
    "    def insertAtEnd(self,data):\n",
    "        newNode= Node(data)\n",
    "        temp=self.head\n",
    "        while(temp.next != None):\n",
    "            temp=temp.next\n",
    "        temp.setNext(newNode)\n",
    "    def insertAtStart(self,data):\n",
    "        newNode=Node(data)\n",
    "        newNode.next = self.head\n",
    "        self.head=newNode\n",
    "        \n",
    "    def insertBetween(self,previousNode,data):\n",
    "        if(previousNode.next is None):\n",
    "            print(\"previous node should have next node\")\n",
    "        else:\n",
    "            newNode = Node(data)\n",
    "            newNode.next= previousNode.next\n",
    "            previousNode.next= newNode\n",
    "        \n",
    "    \n",
    "    \n",
    "    def removeDuplicates(self):\n",
    "        if(self.head == None or self.head.next == None):\n",
    "            return\n",
    "        current = self.head\n",
    "        while(current is not None):\n",
    "            runner = current\n",
    "            while(runner.next is not None):\n",
    "                \n",
    "                if(current.data == runner.next.data):\n",
    "                    temp=runner.next\n",
    "                    runner.next=runner.next.getNext()\n",
    "                    \n",
    "                else:\n",
    "                    runner=runner.next\n",
    "            current = current.next\n",
    "            \n",
    "   \n",
    "        \n",
    "            \n",
    "List = LinkedList()\n",
    "List.head= Node(1)\n",
    "node2 = Node(2)\n",
    "List.head.setNext(node2)\n",
    "node3 = Node(3)\n",
    "node2.setNext(node3)\n",
    "List.insertAtEnd(5)\n",
    "\n",
    "List.insertAtStart(4)\n",
    "List.insertAtStart(4)\n",
    "List.insertAtEnd(2)\n",
    "List.insertBetween(List.head,9)\n",
    "List.insertBetween(node3,9)\n",
    "List.printLinkedList()\n",
    "List.removeDuplicates()\n",
    "print()\n",
    "List.printLinkedList()\n"
   ]
  },
  {
   "cell_type": "code",
   "execution_count": null,
   "metadata": {},
   "outputs": [],
   "source": []
  },
  {
   "cell_type": "code",
   "execution_count": null,
   "metadata": {},
   "outputs": [],
   "source": []
  },
  {
   "cell_type": "code",
   "execution_count": null,
   "metadata": {},
   "outputs": [],
   "source": []
  }
 ],
 "metadata": {
  "kernelspec": {
   "display_name": "Python 3",
   "language": "python",
   "name": "python3"
  },
  "language_info": {
   "codemirror_mode": {
    "name": "ipython",
    "version": 3
   },
   "file_extension": ".py",
   "mimetype": "text/x-python",
   "name": "python",
   "nbconvert_exporter": "python",
   "pygments_lexer": "ipython3",
   "version": "3.7.6"
  }
 },
 "nbformat": 4,
 "nbformat_minor": 4
}
