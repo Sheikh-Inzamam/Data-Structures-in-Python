{
 "cells": [
  {
   "cell_type": "markdown",
   "metadata": {},
   "source": [
    "### Sum Lists(Reverse Order): You have two numbers represented by a linked list, where each node contains a single digit. The digits are stored in reverse order, such that the Vs digit is at the head of the list. Write a function that adds the two numbers and returns the sum as a linked list.\n",
    "### EXAMPLE\n",
    "### Input: ( 7 - > 1 -> 6) + (5 -> 9 -> 2).That is,617 + 295.\n",
    "### Output: 2 -> 1 -> 9. That is, 912.\n",
    "### FOLLOW UP\n",
    "### Suppose the digits are stored in forward order. Repeat the above problem.\n",
    "### EXAMPLE\n",
    "### Input: (6 -> 1 -> 7) + (2 -> 9 -> 5).That is, 617 + 295,\n",
    "### Output:9 -> 1 -> 2,Thatis,912."
   ]
  },
  {
   "cell_type": "code",
   "execution_count": 33,
   "metadata": {},
   "outputs": [
    {
     "name": "stdout",
     "output_type": "stream",
     "text": [
      "7 1 6 \n",
      "5 9 2 \n",
      ".....\n",
      "2 1 9 "
     ]
    }
   ],
   "source": [
    "class Node(object):\n",
    "    def __init__(self,data,next=None):\n",
    "        self.data=data\n",
    "        self.next=next\n",
    "    def getData(self):\n",
    "        return self.data\n",
    "    def setData(self,data):\n",
    "        self.data=data\n",
    "    def getNext(self):\n",
    "        return self.next\n",
    "    def setNext(self,next):\n",
    "        self.next=next\n",
    "        \n",
    "def addLists(list1,list2,carry):\n",
    "        if(list1 == None and list2 == None and carry == 0):\n",
    "            return\n",
    "        result= Node(0)\n",
    "        More= Node(0)\n",
    "        value = carry\n",
    "        if(list1 != None):\n",
    "            #print(list1.data)\n",
    "            value+=list1.data\n",
    "        if(list2 != None):\n",
    "            #print(list2.data)\n",
    "            value+=list2.data\n",
    "        result.data = value % 10\n",
    "        if(list1 != None or list2 != None):\n",
    "            more= addLists(None if list1 == None else list1.next, None if list2== None else list2.next ,1 if value>= 10 else 0)\n",
    "            result.setNext(more)\n",
    "        return result\n",
    "    \n",
    "def printLinkedListFromHead(head):\n",
    "        temp=head\n",
    "        while(temp):\n",
    "            print(temp.data, end =\" \")\n",
    "            temp= temp.next    \n",
    "        \n",
    "class LinkedList(object):\n",
    "    def __init__(self):\n",
    "        self.head= None\n",
    "    def printLinkedList(self):\n",
    "        temp=self.head\n",
    "        while(temp):\n",
    "            print(temp.data, end =\" \")\n",
    "            temp= temp.next    \n",
    "        \n",
    "        \n",
    "            \n",
    "List1 = LinkedList()\n",
    "List2 = LinkedList()\n",
    "List1.head= Node(7)\n",
    "node2 = Node(1)\n",
    "List1.head.setNext(node2)\n",
    "node3 = Node(6)\n",
    "node2.setNext(node3)\n",
    "\n",
    "List2.head=Node(5)\n",
    "node2list2=Node(9)\n",
    "List2.head.setNext(node2list2)\n",
    "node3list2= Node(2)\n",
    "node2list2.setNext(node3list2)\n",
    "\n",
    "List1.printLinkedList()\n",
    "print()\n",
    "List2.printLinkedList()\n",
    "#List.removeDuplicates()\n",
    "print(\"\\n.....\")\n",
    "\n",
    "resultAdd= addLists(List1.head,List2.head,0)\n",
    "printLinkedListFromHead(resultAdd)\n",
    "\n",
    "\n"
   ]
  },
  {
   "cell_type": "code",
   "execution_count": null,
   "metadata": {},
   "outputs": [],
   "source": [
    "\n"
   ]
  }
 ],
 "metadata": {
  "kernelspec": {
   "display_name": "Python 3",
   "language": "python",
   "name": "python3"
  },
  "language_info": {
   "codemirror_mode": {
    "name": "ipython",
    "version": 3
   },
   "file_extension": ".py",
   "mimetype": "text/x-python",
   "name": "python",
   "nbconvert_exporter": "python",
   "pygments_lexer": "ipython3",
   "version": "3.7.6"
  }
 },
 "nbformat": 4,
 "nbformat_minor": 4
}
