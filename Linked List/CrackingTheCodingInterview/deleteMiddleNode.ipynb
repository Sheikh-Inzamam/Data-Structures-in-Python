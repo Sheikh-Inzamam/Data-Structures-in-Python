{
 "cells": [
  {
   "cell_type": "markdown",
   "metadata": {},
   "source": [
    "# Delete Middle Node: Implement an algorithm to delete a node in the middle (i.e., any node but\n",
    "#### the first and last node, not necessarily the exact middle) of a singly linked list, given only access to that node.\n",
    "#### EXAMPLE\n",
    "#### Input: the node c from the linked list a - > b - > c - > d - > e - > f\n",
    "#### Result: nothing is returned, but the new linked list looks like a- >b->d->e->f"
   ]
  },
  {
   "cell_type": "code",
   "execution_count": 6,
   "metadata": {},
   "outputs": [
    {
     "name": "stdout",
     "output_type": "stream",
     "text": [
      "4 9 4 1 2 3 9 5 \n",
      "4 9 4 1 3 9 5 "
     ]
    }
   ],
   "source": [
    "class Node(object):\n",
    "    def __init__(self,data,next=None):\n",
    "        self.data=data\n",
    "        self.next=next\n",
    "    def getData(self):\n",
    "        return self.data\n",
    "    def setData(self,data):\n",
    "        self.data=data\n",
    "    def getNext(self):\n",
    "        return self.next\n",
    "    def setNext(self,next):\n",
    "        self.next=next\n",
    "        \n",
    "class LinkedList(object):\n",
    "    def __init__(self):\n",
    "        self.head= None\n",
    "    def printLinkedList(self):\n",
    "        temp=self.head\n",
    "        while(temp):\n",
    "            print(temp.data, end =\" \")\n",
    "            temp= temp.next\n",
    "    def insertAtEnd(self,data):\n",
    "        newNode= Node(data)\n",
    "        temp=self.head\n",
    "        while(temp.next != None):\n",
    "            temp=temp.next\n",
    "        temp.setNext(newNode)\n",
    "    def insertAtStart(self,data):\n",
    "        newNode=Node(data)\n",
    "        newNode.next = self.head\n",
    "        self.head=newNode\n",
    "        \n",
    "    def insertBetween(self,previousNode,data):\n",
    "        if(previousNode.next is None):\n",
    "            print(\"previous node should have next node\")\n",
    "        else:\n",
    "            newNode = Node(data)\n",
    "            newNode.next= previousNode.next\n",
    "            previousNode.next= newNode\n",
    "            \n",
    "    # Hint: https://www.geeksforgeeks.org/delete-middle-of-linked-list/\n",
    "    \n",
    "    def deleteMiddle(self):\n",
    "        if(self.head is None):\n",
    "            return\n",
    "        if(self.head.next is None):\n",
    "            self.head = None\n",
    "            return\n",
    "        slowPtr=self.head\n",
    "        fastPtr=self.head\n",
    "        prev=None\n",
    "        \n",
    "        while(fastPtr != None and fastPtr.next !=None):\n",
    "            fastPtr=fastPtr.next.next\n",
    "            prev=slowPtr\n",
    "            slowPtr=slowPtr.next\n",
    "        \n",
    "        prev.next=slowPtr.next\n",
    "        slowPtr=None\n",
    "    \n",
    "\n",
    "            \n",
    "   \n",
    "        \n",
    "            \n",
    "List = LinkedList()\n",
    "List.head= Node(1)\n",
    "node2 = Node(2)\n",
    "List.head.setNext(node2)\n",
    "node3 = Node(3)\n",
    "node2.setNext(node3)\n",
    "List.insertAtEnd(5)\n",
    "\n",
    "List.insertAtStart(4)\n",
    "List.insertAtStart(4)\n",
    "#List.insertAtEnd(2)\n",
    "List.insertBetween(List.head,9)\n",
    "List.insertBetween(node3,9)\n",
    "List.printLinkedList()\n",
    "print()\n",
    "List.deleteMiddle()\n",
    "List.printLinkedList()\n",
    "\n",
    "\n"
   ]
  },
  {
   "cell_type": "code",
   "execution_count": null,
   "metadata": {},
   "outputs": [],
   "source": []
  }
 ],
 "metadata": {
  "kernelspec": {
   "display_name": "Python 3",
   "language": "python",
   "name": "python3"
  },
  "language_info": {
   "codemirror_mode": {
    "name": "ipython",
    "version": 3
   },
   "file_extension": ".py",
   "mimetype": "text/x-python",
   "name": "python",
   "nbconvert_exporter": "python",
   "pygments_lexer": "ipython3",
   "version": "3.7.6"
  }
 },
 "nbformat": 4,
 "nbformat_minor": 4
}
