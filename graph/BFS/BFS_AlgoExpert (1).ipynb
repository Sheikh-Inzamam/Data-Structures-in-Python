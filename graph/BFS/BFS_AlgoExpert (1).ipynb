{
 "cells": [
  {
   "cell_type": "code",
   "execution_count": 8,
   "metadata": {},
   "outputs": [
    {
     "name": "stdout",
     "output_type": "stream",
     "text": [
      "['A', 'B', 'C', 'D']\n",
      "['A', 'B', 'C', 'D', 'E', 'F']\n"
     ]
    }
   ],
   "source": [
    "class Node:\n",
    "\n",
    "    def __init__(self, name):\n",
    "        self.name = name\n",
    "        self.children = []\n",
    "\n",
    "    def addChild(self, name):\n",
    "        self.children.append(Node(name))\n",
    "        return self\n",
    "\n",
    "    # O(v + e) time | O(v) space\n",
    "    def breadth_first_search(self, array):\n",
    "        queue = [self] # step 1 > add root node to the queue, the node on which we are calling BFS\n",
    "        while len(queue) > 0:\n",
    "            current = queue.pop(0) # step 2 > pop the root/current node\n",
    "            array.append(current.name) # step 3 > add the current node to the final array\n",
    "            for child in current.children: # step 4 > add the children of the current node to the queue\n",
    "                queue.append(child)\n",
    "        return array\n",
    "    \n",
    "result1 = []\n",
    "test1 = Node(\"A\")\n",
    "test1.addChild(\"B\").addChild(\"C\")\n",
    "test1.children[0].addChild(\"D\")\n",
    "print(test1.breadth_first_search(result1))\n",
    "\n",
    "result2 = []\n",
    "test2 = Node(\"A\")\n",
    "test2.addChild(\"B\").addChild(\"C\").addChild(\"D\").addChild(\"E\")\n",
    "test2.children[1].addChild(\"F\")\n",
    "print(test2.breadth_first_search(result2))"
   ]
  },
  {
   "cell_type": "code",
   "execution_count": null,
   "metadata": {},
   "outputs": [],
   "source": []
  }
 ],
 "metadata": {
  "kernelspec": {
   "display_name": "Python 3",
   "language": "python",
   "name": "python3"
  },
  "language_info": {
   "codemirror_mode": {
    "name": "ipython",
    "version": 3
   },
   "file_extension": ".py",
   "mimetype": "text/x-python",
   "name": "python",
   "nbconvert_exporter": "python",
   "pygments_lexer": "ipython3",
   "version": "3.7.6"
  }
 },
 "nbformat": 4,
 "nbformat_minor": 4
}
