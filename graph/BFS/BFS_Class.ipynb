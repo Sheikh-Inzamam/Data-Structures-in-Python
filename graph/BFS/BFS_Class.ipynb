{
 "cells": [
  {
   "cell_type": "code",
   "execution_count": 62,
   "metadata": {},
   "outputs": [
    {
     "name": "stdout",
     "output_type": "stream",
     "text": [
      "Visiting A node\n",
      "Visiting B node\n",
      "Visiting C node\n",
      "Visiting E node\n",
      "Visiting G node\n",
      "Visiting D node\n",
      "Visiting F node\n",
      "A B E "
     ]
    }
   ],
   "source": [
    "import collections\n",
    "\n",
    "class SimpleGraph:\n",
    "        def __init__(self):\n",
    "                self.edges = {}\n",
    "                self.parents={}\n",
    "\n",
    "        def neighbors(self, id):\n",
    "                return self.edges[id]\n",
    "            \n",
    "\n",
    "\n",
    "eg = SimpleGraph()\n",
    "\n",
    "eg.edges = {\n",
    "        \"A\" : [\"B\", \"C\"],\n",
    "        \"B\": [\"C\", \"E\", \"G\"],\n",
    "        \"C\": [\"D\", \"F\"],\n",
    "        \"D\" : [\"G\"],\n",
    "        \"E\" : [\"F\"],\n",
    "        \"F\" : [\"G\"],\n",
    "        \"G\" : []\n",
    "}\n",
    "\n",
    "\n",
    "class Queue:\n",
    "        def __init__(self):\n",
    "                self.elements = collections.deque()\n",
    "\n",
    "        def empty(self):\n",
    "                return len(self.elements) == 0\n",
    "\n",
    "        def put(self, x):\n",
    "                self.elements.append(x)\n",
    "\n",
    "        def get(self):\n",
    "                return self.elements.popleft()\n",
    "\n",
    "def BFS(graph, start):\n",
    "        frontier = Queue()\n",
    "        frontier.put(start)\n",
    "        visited = {}\n",
    "        visited[start] = True\n",
    "\n",
    "        while not frontier.empty():\n",
    "                current =  frontier.get()\n",
    "                \n",
    "                print(\"Visiting {} node\".format(current))\n",
    "                \n",
    "                for next in graph.neighbors(current):\n",
    "                        if next not in visited:\n",
    "                                visited[next] = True\n",
    "                                graph.parents[next]=current\n",
    "                                frontier.put(next)\n",
    "def printPath(graph,root,destination):\n",
    "    if(destination == root):\n",
    "        print(root,end=\" \")\n",
    "        return\n",
    "    elif(graph.parents[destination]== -1):\n",
    "        print(\"No path\",end=\" \")\n",
    "    else:\n",
    "        printPath(graph,root,graph.parents[destination])\n",
    "        print(destination,end=\" \")\n",
    "        \n",
    "\n",
    "BFS(eg, \"A\") \n",
    "printPath(eg,\"A\",\"E\")\n"
   ]
  },
  {
   "cell_type": "code",
   "execution_count": null,
   "metadata": {},
   "outputs": [],
   "source": []
  }
 ],
 "metadata": {
  "kernelspec": {
   "display_name": "Python 3",
   "language": "python",
   "name": "python3"
  },
  "language_info": {
   "codemirror_mode": {
    "name": "ipython",
    "version": 3
   },
   "file_extension": ".py",
   "mimetype": "text/x-python",
   "name": "python",
   "nbconvert_exporter": "python",
   "pygments_lexer": "ipython3",
   "version": "3.7.6"
  }
 },
 "nbformat": 4,
 "nbformat_minor": 4
}
