{
 "cells": [
  {
   "cell_type": "code",
   "execution_count": 48,
   "metadata": {},
   "outputs": [
    {
     "name": "stdout",
     "output_type": "stream",
     "text": [
      "0 1 0 1 \n",
      "1 0 1 0 \n",
      "0 1 0 1 \n",
      "1 0 1 0 \n",
      "bfs:\n",
      "0 1 3 2 \n",
      "Shortest path:\n",
      "0 1 2 "
     ]
    }
   ],
   "source": [
    "import queue\n",
    "\n",
    "def bfs(root):\n",
    "    \n",
    "    dis[root] = 0;\n",
    "    color[root] = \"gray\";\n",
    "    \n",
    "    q = queue.Queue() \n",
    "    q.put(root)\n",
    "    \n",
    "    while (not q.empty()): \n",
    "          \n",
    "        # Extracting the front element(node)  \n",
    "        # and poping it out of queue.  \n",
    "        u = q.get()  \n",
    "  \n",
    "        #print(u, end = \" \") \n",
    "    \n",
    "        for i in range(v):\n",
    "            if(grid[u][i]!=0):\n",
    "                if(color[i]== \"white\"):\n",
    "                    color[i]=\"gray\"\n",
    "                    parent[i]= u\n",
    "                    dis[i]=dis[u]+1\n",
    "                    q.put(i)\n",
    "        color[u]=\"black\"\n",
    "        print(u, end= \" \")\n",
    "    \n",
    "def printPath(root,destination):\n",
    "    if(destination == root):\n",
    "        print(root,end=\" \")\n",
    "        return\n",
    "    elif(parent[destination]== -1):\n",
    "        print(\"No path\",end=\" \")\n",
    "    else:\n",
    "        printPath(root,parent[destination])\n",
    "        print(destination,end=\" \")\n",
    "    \n",
    "    \n",
    "#driver code    \n",
    "lines = []\n",
    "with open('input.txt') as input_file:\n",
    "    \n",
    "    noOfVertexEdge = input_file.readline()\n",
    "    v,e = (int(x) for x in noOfVertexEdge.split())\n",
    "    grid= [[0 for x in range(v)] for y in range(v)]\n",
    "    #print(v)\n",
    "    for line in range(e):\n",
    "        edges = input_file.readline()\n",
    "    \n",
    "        x,y = (int(x) for x in edges.split())\n",
    "        grid[x][y]=1\n",
    "        grid[y][x]=1\n",
    "    \n",
    "    \n",
    "for i in range(v):\n",
    "    for j in range(v):\n",
    "        print(grid[i][j], end= \" \")        \n",
    "    print()  \n",
    "\n",
    "color = [\"white\"] * v  \n",
    "dis = [0] * v  \n",
    "parent = [-1] * v  \n",
    "\n",
    "print(\"bfs:\")\n",
    "bfs(0)\n",
    "print(\"\\nShortest path:\")\n",
    "printPath(0,2)\n",
    "\n",
    "\n",
    "        "
   ]
  },
  {
   "cell_type": "code",
   "execution_count": null,
   "metadata": {},
   "outputs": [],
   "source": []
  }
 ],
 "metadata": {
  "kernelspec": {
   "display_name": "Python 3",
   "language": "python",
   "name": "python3"
  },
  "language_info": {
   "codemirror_mode": {
    "name": "ipython",
    "version": 3
   },
   "file_extension": ".py",
   "mimetype": "text/x-python",
   "name": "python",
   "nbconvert_exporter": "python",
   "pygments_lexer": "ipython3",
   "version": "3.7.6"
  }
 },
 "nbformat": 4,
 "nbformat_minor": 4
}
