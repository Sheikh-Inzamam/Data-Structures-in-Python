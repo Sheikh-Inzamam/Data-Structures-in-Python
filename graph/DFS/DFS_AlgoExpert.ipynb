{
 "cells": [
  {
   "cell_type": "code",
   "execution_count": 1,
   "metadata": {},
   "outputs": [
    {
     "name": "stdout",
     "output_type": "stream",
     "text": [
      "['A', 'B', 'D', 'C']\n",
      "['A', 'B', 'C', 'F', 'D', 'E']\n"
     ]
    }
   ],
   "source": [
    "class Node:\n",
    "    def __init__(self, name):\n",
    "        self.children = []\n",
    "        self.name = name\n",
    "\n",
    "    def addChild(self, name):\n",
    "        self.children.append(Node(name))\n",
    "        return self\n",
    "\n",
    "    def depthFirstSearch(self, array):\n",
    "        array.append(self.name)\n",
    "        for child in self.children:\n",
    "            child.depthFirstSearch(array)\n",
    "        return array\n",
    "\n",
    "\n",
    "result1 = []\n",
    "test1 = Node(\"A\")\n",
    "test1.addChild(\"B\").addChild(\"C\")\n",
    "test1.children[0].addChild(\"D\")\n",
    "print(test1.depthFirstSearch(result1))\n",
    "\n",
    "result2 = []\n",
    "test2 = Node(\"A\")\n",
    "test2.addChild(\"B\").addChild(\"C\").addChild(\"D\").addChild(\"E\")\n",
    "test2.children[1].addChild(\"F\")\n",
    "print(test2.depthFirstSearch(result2))"
   ]
  },
  {
   "cell_type": "code",
   "execution_count": null,
   "metadata": {},
   "outputs": [],
   "source": []
  },
  {
   "cell_type": "code",
   "execution_count": null,
   "metadata": {},
   "outputs": [],
   "source": []
  }
 ],
 "metadata": {
  "kernelspec": {
   "display_name": "Python 3",
   "language": "python",
   "name": "python3"
  },
  "language_info": {
   "codemirror_mode": {
    "name": "ipython",
    "version": 3
   },
   "file_extension": ".py",
   "mimetype": "text/x-python",
   "name": "python",
   "nbconvert_exporter": "python",
   "pygments_lexer": "ipython3",
   "version": "3.7.6"
  }
 },
 "nbformat": 4,
 "nbformat_minor": 4
}
