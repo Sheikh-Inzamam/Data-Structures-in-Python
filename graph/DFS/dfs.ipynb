{
 "cells": [
  {
   "cell_type": "markdown",
   "metadata": {},
   "source": [
    "# Depth First Search"
   ]
  },
  {
   "cell_type": "code",
   "execution_count": 9,
   "metadata": {},
   "outputs": [
    {
     "name": "stdout",
     "output_type": "stream",
     "text": [
      "DFS: \n",
      "0 1 7 2 3 4 8 5 6 \n",
      "\n",
      "Finishing Time:\n",
      "18 17 15 10 9 14 13 16 8 "
     ]
    }
   ],
   "source": [
    "\n",
    "def dfsVisit(u):\n",
    "    color[u]=\"gray\"\n",
    "    print(u,end=\" \")\n",
    "    global time\n",
    "    time = time +1\n",
    "    discoverTime[u]= time\n",
    "    for i in range(v):\n",
    "        if(grid[u][i]!=0):\n",
    "            if(color[i]== \"white\"):\n",
    "                parent[i]=u\n",
    "                dfsVisit(i)\n",
    "    color[u]=\"black\"\n",
    "    time = time +1\n",
    "    finishingTime[u]= time\n",
    "    #print(finishingTime[u])\n",
    "\n",
    "\n",
    "#driver code    \n",
    "lines = []\n",
    "with open('dfsinput.txt') as input_file:\n",
    "    \n",
    "    noOfVertexEdge = input_file.readline()\n",
    "    v,e = (int(x) for x in noOfVertexEdge.split())\n",
    "    grid= [[0 for x in range(v)] for y in range(v)]\n",
    "    \n",
    "    for line in range(e):\n",
    "        edges = input_file.readline()\n",
    "    \n",
    "        x,y = (int(x) for x in edges.split())\n",
    "     #   print(x,y)\n",
    "        grid[x][y]=1\n",
    "        grid[y][x]=1\n",
    "    \n",
    "    \n",
    "#for i in range(v):\n",
    "    #for j in range(v):\n",
    "     #   print(grid[i][j], end= \" \")        \n",
    "    #print()  \n",
    "time = 0\n",
    "color = [\"white\"] * v  \n",
    "parent = [-1] * v  \n",
    "discoverTime= [-1]*v\n",
    "finishingTime=[-1]*v\n",
    "\n",
    "\n",
    "print(\"DFS: \")\n",
    "for i in range(v):\n",
    "    if color[i]==\"white\":\n",
    "        dfsVisit(i)\n",
    "print(\"\\n\\nFinishing Time:\")\n",
    "for i in range(v):\n",
    "    print(finishingTime[i],end=\" \")\n",
    "\n"
   ]
  },
  {
   "cell_type": "code",
   "execution_count": null,
   "metadata": {},
   "outputs": [],
   "source": []
  },
  {
   "cell_type": "code",
   "execution_count": null,
   "metadata": {},
   "outputs": [],
   "source": []
  }
 ],
 "metadata": {
  "kernelspec": {
   "display_name": "Python 3",
   "language": "python",
   "name": "python3"
  },
  "language_info": {
   "codemirror_mode": {
    "name": "ipython",
    "version": 3
   },
   "file_extension": ".py",
   "mimetype": "text/x-python",
   "name": "python",
   "nbconvert_exporter": "python",
   "pygments_lexer": "ipython3",
   "version": "3.7.6"
  }
 },
 "nbformat": 4,
 "nbformat_minor": 4
}
