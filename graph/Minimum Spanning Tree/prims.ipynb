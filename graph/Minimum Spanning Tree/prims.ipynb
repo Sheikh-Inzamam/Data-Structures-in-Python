{
 "cells": [
  {
   "cell_type": "code",
   "execution_count": 26,
   "metadata": {},
   "outputs": [
    {
     "name": "stdout",
     "output_type": "stream",
     "text": [
      "Edge \tWeight\n",
      "0 - 1 \t 2\n",
      "1 - 2 \t 3\n",
      "0 - 3 \t 6\n",
      "1 - 4 \t 5\n",
      "Distance from source node (0)\n",
      "7\n"
     ]
    }
   ],
   "source": [
    "\n",
    "# A Python program for Prim's Minimum Spanning Tree (MST) algorithm.\n",
    "# The program is for adjacency matrix representation of the graph\n",
    "# Part of Cosmos by OpenGenus Foundation\n",
    "\n",
    "\n",
    "class Python():\n",
    "    def __init__(self, vertices,sum=0):\n",
    "        self.V = vertices\n",
    "        self.parent = [None] * self.V # Array to store constructed MST\n",
    "        self.sum =sum\n",
    "        self.graph = [[0 for column in range(vertices)] \n",
    "                      for row in range(vertices)]\n",
    "    # Function to print the constructed MST stored in parent[]\n",
    "    def printMST(self, parent):\n",
    "        print (\"Edge \\tWeight\")\n",
    "        for i in range(1,self.V):\n",
    "            print (parent[i],\"-\",i,\"\\t\",self.graph[i][parent[i]])\n",
    "    # Function to find the vertex with minimum distance value, from\n",
    "    # the set of vertices not yet included in shortest path tree\n",
    "    \n",
    "    def sumMST(self,dest):\n",
    "        if(self.parent[dest]==-1):\n",
    "            return 0\n",
    "        else:\n",
    "            \n",
    "            self.sumMST(self.parent[dest])\n",
    "            if(self.parent[dest] != -1):\n",
    "                self.sum=self.sum+self.graph[dest][self.parent[dest]]\n",
    "    \n",
    "    \n",
    "    \n",
    "    def minKey(self, key, mstSet):\n",
    "        # Initilaize min value\n",
    "        min = 1000000\n",
    "        for v in range(self.V):\n",
    "            if key[v] < min and mstSet[v] == False:\n",
    "                min = key[v]\n",
    "                min_index = v\n",
    "        return min_index\n",
    "    # Function to construct and print MST for a graph represented using\n",
    "    # adjacency matrix representation\n",
    "    def primMST(self):\n",
    "        #Key values used to pick minimum weight edge in cut\n",
    "        key = [1000000] * self.V\n",
    "       \n",
    "        key[0] = 0   # Make key 0 so that this vertex is picked as first vertex\n",
    "        mstSet = [False] * self.V\n",
    "        self.parent[0] = -1  # First node is always the root of\n",
    "        for cout in range(self.V):\n",
    "            # Pick the minimum distance vertex from the set of vertices not\n",
    "            # yet processed. u is always equal to src in first iteration\n",
    "            u = self.minKey(key, mstSet)\n",
    "            # Put the minimum distance vertex in the shortest path tree\n",
    "            mstSet[u] = True\n",
    "            # Update dist value of the adjacent vertices of the picked vertex\n",
    "            # only if the current distance is greater than new distance and\n",
    "            # the vertex in not in the shotest path tree\n",
    "            for v in range(self.V):\n",
    "                # graph[u][v] is non zero only for adjacent vertices of m\n",
    "                # mstSet[v] is false for vertices not yet included in MST\n",
    "                # Update the key only if graph[u][v] is smaller than key[v]\n",
    "                if self.graph[u][v] > 0 and mstSet[v] == False and key[v] > self.graph[u][v]:\n",
    "                        key[v] = self.graph[u][v]\n",
    "                        self.parent[v] = u\n",
    "        self.printMST(self.parent)\n",
    "g  = Python(5)\n",
    "\n",
    "g.graph = [ [0, 2, 0, 6, 0],\n",
    "             [2, 0, 3, 8, 5],\n",
    "             [0, 3, 0, 0, 7],\n",
    "             [6, 8, 0, 0, 9],\n",
    "             [0, 5, 7, 9, 0],\n",
    "           ]\n",
    "g.primMST()\n",
    "g.sumMST(4)\n",
    "print(\"Distance from source node (0)\")\n",
    "print(g.sum)"
   ]
  },
  {
   "cell_type": "code",
   "execution_count": null,
   "metadata": {},
   "outputs": [],
   "source": []
  },
  {
   "cell_type": "code",
   "execution_count": null,
   "metadata": {},
   "outputs": [],
   "source": []
  }
 ],
 "metadata": {
  "kernelspec": {
   "display_name": "Python 3",
   "language": "python",
   "name": "python3"
  },
  "language_info": {
   "codemirror_mode": {
    "name": "ipython",
    "version": 3
   },
   "file_extension": ".py",
   "mimetype": "text/x-python",
   "name": "python",
   "nbconvert_exporter": "python",
   "pygments_lexer": "ipython3",
   "version": "3.7.6"
  }
 },
 "nbformat": 4,
 "nbformat_minor": 4
}
